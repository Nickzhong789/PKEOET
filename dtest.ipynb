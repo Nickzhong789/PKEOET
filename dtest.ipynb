{
 "cells": [
  {
   "cell_type": "code",
   "execution_count": 6,
   "metadata": {},
   "outputs": [],
   "source": [
    "from pypbc import *\n",
    "import json\n",
    "import time"
   ]
  },
  {
   "cell_type": "code",
   "execution_count": 9,
   "metadata": {},
   "outputs": [
    {
     "data": {
      "text/plain": [
       "[(0x1EBD3A46D5CC7580710C3E601477041D5C6707C4EC0F927D9E1E9B4AB445D26580DC11C05B2A8355A6E31E1CD9E4C75E3ABD9F196AFFEC4A43757F0055BC58E2, 0x64B96601067A7CB954A495124BF8062C2945FF9D2574BCDF9C219A1A7AB1FB7AC80CD7812A395F0611A2D026A9B30417890A41FDEC06BB9354C460B91129D3D1),\n",
       " (0x4F418EE155460C95D58B747ACCEDE4A69841E5949AE54762CE69BC81054745FDD5064D6003BE13BAEAE36EBE795FF44D7A628FC7FD105D31223F643F24778FBB, 0x54193FA1E6048F251DD6CAB3F892BE8D456665F2BFC7810B1C9C5606B4F88222C9685DA149B4B5B90CCF9FD7CEDC1763BC0791399877C6694FB38F4E70F5BC85),\n",
       " (0x633422FC338C657926CF82A167C46F5DE3251457DEF630E4EF9EFA4B2B5909AE57C282ADED5760A7AD1913C579E1BD8F117948CC9061C9EED17C2757AC8C6387, 0x22DB4EE11CE1D207C85485B7669C87952DE24C892F94B6E82091BC0F527C00EEAADB9BD80EBDB03AEFCDFDD70E6812AD11A3DDA66BB23B26C1C8ACFD15A72DC9),\n",
       " (0x8D47C11154EB10DA1F1D4BD7C9F393144630EBE84C575FFC367F38A9AD73A004A49BF39EB5ED2604ABBED9B34C6FABC4544BEC3194767363221ADAAFD21D3CBB, 0x6B7F6B9170061A13B37A434FB9AFBCD4A2CC89EA3BA083044363B7721785F0BC2F643A768EB9D32EB1BE29A655A8EAD08E151608FD5605473B9065998933232C)]"
      ]
     },
     "execution_count": 9,
     "metadata": {},
     "output_type": "execute_result"
    }
   ],
   "source": [
    "def msg_to_v(m, file):\n",
    "    with open(file, 'r') as f:\n",
    "        d_info = json.load(f)\n",
    "    \n",
    "    sp = d_info['sp']\n",
    "    params = Parameters(param_string=sp)\n",
    "    pairing = Pairing(params)\n",
    "\n",
    "    dsk_s = d_info['dsk']\n",
    "    dsk_v = int(dsk_s, 16)\n",
    "    dsk = Element(pairing, Zr, value=dsk_v)\n",
    "\n",
    "    v = []\n",
    "    vt = m.split('.')\n",
    "    for vti in vt:\n",
    "        v_s = vti.split('|')\n",
    "        vi = [Element(pairing, GT, value=v_s[i]) for i in range(len(v_s))]\n",
    "        v.append(vi)\n",
    "    \n",
    "    return v, dsk\n",
    "\n",
    "msg = '(0x1EBD3A46D5CC7580710C3E601477041D5C6707C4EC0F927D9E1E9B4AB445D26580DC11C05B2A8355A6E31E1CD9E4C75E3ABD9F196AFFEC4A43757F0055BC58E2, 0x64B96601067A7CB954A495124BF8062C2945FF9D2574BCDF9C219A1A7AB1FB7AC80CD7812A395F0611A2D026A9B30417890A41FDEC06BB9354C460B91129D3D1)|(0x4F418EE155460C95D58B747ACCEDE4A69841E5949AE54762CE69BC81054745FDD5064D6003BE13BAEAE36EBE795FF44D7A628FC7FD105D31223F643F24778FBB, 0x54193FA1E6048F251DD6CAB3F892BE8D456665F2BFC7810B1C9C5606B4F88222C9685DA149B4B5B90CCF9FD7CEDC1763BC0791399877C6694FB38F4E70F5BC85)|(0x633422FC338C657926CF82A167C46F5DE3251457DEF630E4EF9EFA4B2B5909AE57C282ADED5760A7AD1913C579E1BD8F117948CC9061C9EED17C2757AC8C6387, 0x22DB4EE11CE1D207C85485B7669C87952DE24C892F94B6E82091BC0F527C00EEAADB9BD80EBDB03AEFCDFDD70E6812AD11A3DDA66BB23B26C1C8ACFD15A72DC9)|(0x8D47C11154EB10DA1F1D4BD7C9F393144630EBE84C575FFC367F38A9AD73A004A49BF39EB5ED2604ABBED9B34C6FABC4544BEC3194767363221ADAAFD21D3CBB, 0x6B7F6B9170061A13B37A434FB9AFBCD4A2CC89EA3BA083044363B7721785F0BC2F643A768EB9D32EB1BE29A655A8EAD08E151608FD5605473B9065998933232C).(0x40959B0C50B8C7CADC6EA24F89F0806A416E185623DAF231AAEDF07616AE9DDA5A81BC67E0CD65340AAD574BBD7A754C3BDF87C2CD59D7D30D2BA9521371FD58, 0x07C8CD9570F2827E7F43415D839BEFEAB0001E033FB28DD05FAFA90A3CE9629BD35591FEC17C4D5DCAB3D49100C959DD68E38284DF766722FF20D9758DD4DFE8)|(0x96C64B0F76D0C26CBA2A5B43FA568C58BF51697062E531016765AA6DF930490B79C63835B50638CF02F3F3C3B8E029075E3426C09DE54F74DDF70848CC4C3EF9, 0x49D503D989768652C666932ACC232B47F26E2A8B188ED29BB6AA0C683806A100B960E2E8AB2823956C929DFB0960AA51ED7348BA55031AAA2A47A9E19DF50285)|(0x769CF64E8C82ECB5CE7DF53B07CF16EF585CF18244B3DF32866733CC5AF2795B0F3A4355BFE4613CED6B12FB4D5C44AD8C6129EDA9F54B8DBB863DCFBFD47C45, 0x87490881E3F5D5225A931233C97BD0F54219221A419146320BB9AEF67EDBD87CD380DF30AB72BCCE31255996F52C87A955188EF584A4B3BB08208750135ABD4E)|(0x896B7B430E00E1E346B3BCE3A78EECD5CB074A2AFE7A9FD5E15C47CBDF7D32B1E5F8A487AD4C3F15C842358D57F400A352C085F9EE7B0615BBC1BCF6A73C0013, 0x32366AE1B5CDD643286595F7B0779370190D62D64526BB2B664B60E249D42C5719779EA7101FD0FC4F9EA57ABC44D7A5509317E4D6A0B4D6B00ED34CDF092C6E)'\n",
    "json_file = './discriminator.json'\n",
    "\n",
    "v, dsk = msg_to_v(msg, json_file)\n",
    "v[0]"
   ]
  },
  {
   "cell_type": "code",
   "execution_count": 11,
   "metadata": {},
   "outputs": [
    {
     "name": "stdout",
     "output_type": "stream",
     "text": [
      "(0, 0.0011820793151855469)\n"
     ]
    },
    {
     "data": {
      "text/plain": [
       "False"
      ]
     },
     "execution_count": 11,
     "metadata": {},
     "output_type": "execute_result"
    }
   ],
   "source": [
    "def dTest(tv, dsk):\n",
    "    start = time.time()\n",
    "    if((tv[2]**dsk) != tv[3]):\n",
    "        pass\n",
    "#         return None\n",
    "#     else:\n",
    "    if((tv[0]**dsk) != tv[1]):\n",
    "        ret = 0\n",
    "    else:\n",
    "        ret = 1\n",
    "    end = time.time() - start\n",
    "    return ret, end\n",
    "\n",
    "print(dTest(v[0], dsk))\n",
    "v[0][0]**dsk == v[0][1]"
   ]
  },
  {
   "cell_type": "code",
   "execution_count": 13,
   "metadata": {},
   "outputs": [
    {
     "name": "stdout",
     "output_type": "stream",
     "text": [
      "P Time:  0.09049868583679199\n"
     ]
    }
   ],
   "source": [
    "with open('./discriminator.json', 'r') as f:\n",
    "    d_info = json.load(f)\n",
    "    \n",
    "sp = d_info['sp']\n",
    "params = Parameters(param_string=sp)\n",
    "pairing = Pairing(params)\n",
    "\n",
    "count = 0\n",
    "p_time = 0.0\n",
    "with open('v.txt', 'r') as f:\n",
    "    for l in f.readlines():\n",
    "        count += 1\n",
    "        vt = l.strip().split('|')\n",
    "        v = [Element(pairing, GT, value=vi) for vi in vt]\n",
    "        # print(dTest(v, dsk))\n",
    "        d_res, d_t = dTest(v, dsk)\n",
    "        p_time += d_t\n",
    "        if count == 100:\n",
    "            print('P Time: ', p_time)\n",
    "            break"
   ]
  },
  {
   "cell_type": "code",
   "execution_count": null,
   "metadata": {},
   "outputs": [],
   "source": []
  }
 ],
 "metadata": {
  "hide_input": false,
  "kernelspec": {
   "display_name": "Python 3",
   "language": "python",
   "name": "python3"
  },
  "language_info": {
   "codemirror_mode": {
    "name": "ipython",
    "version": 3
   },
   "file_extension": ".py",
   "mimetype": "text/x-python",
   "name": "python",
   "nbconvert_exporter": "python",
   "pygments_lexer": "ipython3",
   "version": "3.6.8"
  },
  "toc": {
   "base_numbering": 1,
   "nav_menu": {},
   "number_sections": true,
   "sideBar": true,
   "skip_h1_title": false,
   "title_cell": "Table of Contents",
   "title_sidebar": "Contents",
   "toc_cell": false,
   "toc_position": {},
   "toc_section_display": true,
   "toc_window_display": false
  },
  "varInspector": {
   "cols": {
    "lenName": 16,
    "lenType": 16,
    "lenVar": 40
   },
   "kernels_config": {
    "python": {
     "delete_cmd_postfix": "",
     "delete_cmd_prefix": "del ",
     "library": "var_list.py",
     "varRefreshCmd": "print(var_dic_list())"
    },
    "r": {
     "delete_cmd_postfix": ") ",
     "delete_cmd_prefix": "rm(",
     "library": "var_list.r",
     "varRefreshCmd": "cat(var_dic_list()) "
    }
   },
   "types_to_exclude": [
    "module",
    "function",
    "builtin_function_or_method",
    "instance",
    "_Feature"
   ],
   "window_display": false
  }
 },
 "nbformat": 4,
 "nbformat_minor": 2
}
