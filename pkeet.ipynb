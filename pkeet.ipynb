{
 "cells": [
  {
   "cell_type": "code",
   "execution_count": 9,
   "metadata": {},
   "outputs": [],
   "source": [
    "from pypbc import *\n",
    "import hashlib\n",
    "import time"
   ]
  },
  {
   "cell_type": "code",
   "execution_count": 10,
   "metadata": {},
   "outputs": [],
   "source": [
    "stored_params = \"\"\"type a\n",
    "q 8780710799663312522437781984754049815806883199414208211028653399266475630880222957078625179422662221423155858769582317459277713367317481324925129998224791\n",
    "h 12016012264891146079388821366740534204802954401251311822919615131047207289359704531102844802183906537786776\n",
    "r 730750818665451621361119245571504901405976559617\n",
    "exp2 159\n",
    "exp1 107\n",
    "sign1 1\n",
    "sign0 1\n",
    "\"\"\"\n",
    "\n",
    "params = Parameters(param_string=stored_params)\n",
    "pairing = Pairing(params)"
   ]
  },
  {
   "cell_type": "code",
   "execution_count": 11,
   "metadata": {},
   "outputs": [
    {
     "data": {
      "text/plain": [
       "029C577D99FF8B328AF4FA545F04FB085D9924FF91C010B136481A7E4D82FA978FB21EEF06ACD270B86B457BB90DAC84D470E65AE24765705AB39FC4BC93CE5616"
      ]
     },
     "execution_count": 11,
     "metadata": {},
     "output_type": "execute_result"
    }
   ],
   "source": [
    "def setup():\n",
    "    g = Element.random(pairing, G1)\n",
    "    \n",
    "    return g\n",
    "\n",
    "g = setup()\n",
    "g"
   ]
  },
  {
   "cell_type": "code",
   "execution_count": 4,
   "metadata": {},
   "outputs": [
    {
     "data": {
      "text/plain": [
       "020833EB863ED6763D3B2F73C9613082F8B9BD430760AE2762A472A04395B7C891E832481C96DF7E81D7466C1EF77744588F042BA85BC58255A4E9049144DAD08E"
      ]
     },
     "execution_count": 4,
     "metadata": {},
     "output_type": "execute_result"
    }
   ],
   "source": [
    "def keygen(g):\n",
    "    x = Element.random(pairing, Zr)\n",
    "    y = g**x\n",
    "    \n",
    "    return x, y\n",
    "\n",
    "x, y = keygen(g)\n",
    "y"
   ]
  },
  {
   "cell_type": "code",
   "execution_count": 5,
   "metadata": {},
   "outputs": [],
   "source": [
    "def get_hash(c1, c2, c3):\n",
    "        h_in = str(c1) + str(c2) + str(c3)\n",
    "        sha512 = hashlib.sha512()\n",
    "        sha512.update(h_in.encode('utf8'))\n",
    "        hv = sha512.hexdigest()\n",
    "#         ev = Element.from_hash(pairing, G1, hv)\n",
    "        \n",
    "        return hv"
   ]
  },
  {
   "cell_type": "code",
   "execution_count": 6,
   "metadata": {},
   "outputs": [
    {
     "data": {
      "text/plain": [
       "0332303735463133393430423631454646304432333932414344343341423931374337434446413636443336303535454632314333463234394244423736323843"
      ]
     },
     "execution_count": 6,
     "metadata": {},
     "output_type": "execute_result"
    }
   ],
   "source": [
    "def xor(a, b):\n",
    "    aa = int(str(a), 16)\n",
    "    bb = int(str(b), 16)\n",
    "    \n",
    "    c = aa ^ bb\n",
    "    cc = hex(c)\n",
    "    c_e = Element(pairing, G1, value=str(cc))\n",
    "    \n",
    "    return c_e\n",
    "\n",
    "p = Element.random(pairing, G1)\n",
    "q = Element.random(pairing, G1)\n",
    "xor(p, q)"
   ]
  },
  {
   "cell_type": "code",
   "execution_count": 6,
   "metadata": {},
   "outputs": [
    {
     "name": "stdout",
     "output_type": "stream",
     "text": [
      "0.06722688674926758\n"
     ]
    },
    {
     "data": {
      "text/plain": [
       "['020EDDC9FD464993DFCD74DFC9C21551A09BA488D5BD2C83E489E5AD9D4F48B1B339F61FD2A7C1956D8E0661FF35720021B1E6FD37B36046E348E60EDCC76F654F',\n",
       " '0248D5C5BC5B11E46C507F902E78300606A139B0DC1A3A97CAFFA8915C8D8DA3067686F514EF8B8D1F5245C986E81F57BB555E5D14A719BD452935D373CB43F352',\n",
       " '\\x01V\\x06\\x0e\\n\"\\'\\x03[%UV\\x07\\x02q\\x01q$\\x07\\x04\\x01\\t!\\r$\\x00\\x00V\\x03\\x07[\\x0cx$x\\x06\\x00Q \\x0e$w\\x01QW\\n\\x0fuV\\x02\\x00T\\x0e!pq\\x00P\\x07\\x04vTZ\\\\TTwp&$qxR\\x07\\rt$\\x02{\\x0eSZ\\x04%QQ\\x07vt\\x01%\\x07q&|\\'\\x0eu\\x03\\x04\\x05t\\x00\\x01\\x0cR!\\tw#\\x04R\\x02p\\x00\\x04\\x01U\\x01!u\"\\x02u\\x02w\\n\\t']"
      ]
     },
     "execution_count": 6,
     "metadata": {},
     "output_type": "execute_result"
    }
   ],
   "source": [
    "def enc(m, g, y):\n",
    "    r = Element.random(pairing, Zr)\n",
    "    u = g**r\n",
    "    v = m**r\n",
    "    \n",
    "    h = get_hash(u, v, y**r)\n",
    "    mr_s = str(m) + str(r)\n",
    "    w = ''\n",
    "    for i in range(len(h)):\n",
    "        w += chr(ord(h[i]) ^ ord(mr_s[i])) \n",
    "    \n",
    "    return [str(u), str(v), w]\n",
    "    \n",
    "c1 = []\n",
    "c2 = []\n",
    "m = []\n",
    "x1, y1 = keygen(g)\n",
    "x2, y2 = keygen(g)\n",
    "\n",
    "num = 9\n",
    "for i in range(num):\n",
    "    m.append(Element.random(pairing, G1))\n",
    "    \n",
    "start = time.time()\n",
    "for i in range(num):\n",
    "    c1.append(enc(m[i], g, y1))\n",
    "enc_time = time.time() - start\n",
    "\n",
    "for i in range(num):\n",
    "    c2.append(enc(m[i], g, y2))\n",
    "print(enc_time)\n",
    "c1[0]"
   ]
  },
  {
   "cell_type": "code",
   "execution_count": 7,
   "metadata": {},
   "outputs": [
    {
     "name": "stdout",
     "output_type": "stream",
     "text": [
      "dec time:  0.002215862274169922\n",
      "c:  ['0245E10FA7C9220C7EF3AC4B5F9BBA1ED51E23BD45F7618B9E2631EE90436F6F87DE531EF2E4A70786D460AE3A4A43B643A2FC1BF5B6CA64B229A8E531255A4697', '0309299BF6E0F994EDC27298EF4D4A5F2B7203BCC2E31CA0F79093056DBB95ABE7A46447220D984CB785E1BF35A26810C9B55A67D8B50941D985E371D52E1BA0A4', '\\x06RV\\t]$%\\x03\\x0c!\\x02SQS \\x0b~sV\\x05X\\x0ez\\\\s\\x0b\\x02U\\x07\\x01\\x08Z\"t%\\x01R\\x03x\\x08qr\\x06\\x03\\x00\\x04[vV\\n\\x03\\x07\\x01\"$tR\\x07\\x07\\x01x\\x00\\x0f\\nU\\x07uwq\\'$w\\x07\\x05\\x01p!R\\'\\x02SY\\x03%P\\x06T%r\\x04sQ&w#p\\x0f\"\\x01\\x01\\x0c\\']W\\x0e\\x04s\\x02 qS\\x06\\x00vT\\x05\\x0c\\x03Wt v\\x03sS&\\x04\\x00']\n",
      "mr_s:  03398AD58C3700A8FE5398C9B3774488AAA714A8BD32238E22716DFB3313A68801ADDABA308EE7C6186C425FA4F3DCEC8F305B8286C0EA761E60931BCD4A6E3901\n",
      "m:  03398AD58C3700A8FE5398C9B3774488AAA714A8BD32238E22716DFB3313A68801ADDABA308EE7C6186C425FA4F3DCEC8F305B8286C0EA761E60931BCD4A6E3913\n"
     ]
    }
   ],
   "source": [
    "def dec(sk, c):\n",
    "    u = Element(pairing, G1, value=c[0])\n",
    "    v = Element(pairing, G1, value=c[1])\n",
    "    h = get_hash(u, v, u**sk)\n",
    "    mr_s = ''\n",
    "    \n",
    "    for i in range(len(h)):\n",
    "        mr_s += chr(ord(h[i]) ^ ord(c[2][i]))\n",
    "    \n",
    "    m = Element(pairing, G1, value=mr_s)\n",
    "    \n",
    "    return m\n",
    "\n",
    "c = enc(m[0], g, y)\n",
    "st = time.time()\n",
    "mr_s = dec(x, c)\n",
    "dec_time = time.time() - st\n",
    "print('dec time: ', dec_time)\n",
    "print('c: ', c)\n",
    "print('mr_s: ', mr_s)\n",
    "print('m: ', m[0])"
   ]
  },
  {
   "cell_type": "code",
   "execution_count": 8,
   "metadata": {},
   "outputs": [
    {
     "name": "stdout",
     "output_type": "stream",
     "text": [
      "Length of h:  128\n",
      "Length of m:  130\n",
      "Length of r:  42\n"
     ]
    },
    {
     "data": {
      "text/plain": [
       "'Q\\x02#W#q#vrv ws\\x05RQ\\x0b^\\x02$p\\x0eR\\x05\\x04ts\\n\\x04\\x03zu}VU[\\x00\\x04#\\'#P\\x01vv\\x02p\\x06sR ^P\\x0f\\x05p\\x03\\x02\\x01\\x02\\'\\x0e\\x04\\rS^q\\x0fp\\x07VP$\\x03_}\\x04pvW\\x06R\\x04 YsU\\x04\"&$\\x02\\x00\\t\\x0f\\x07\\x01\\x01WqqV\\t\\x08\\x05\\\\\\x0bW\\\\\\x0fws\\nU YQT rtQV\\x03W\\x03\\x03\\x07'"
      ]
     },
     "execution_count": 8,
     "metadata": {},
     "output_type": "execute_result"
    }
   ],
   "source": [
    "m = Element.random(pairing, G1)\n",
    "r = Element.random(pairing, Zr)\n",
    "u = g**r\n",
    "v = m**r\n",
    "    \n",
    "h = get_hash(u, v, y**r)\n",
    "mr_s = str(m) + str(r)\n",
    "print('Length of h: ', len(h))\n",
    "print('Length of m: ', len(str(m)))\n",
    "print('Length of r: ', len(str(r)))\n",
    "c = ''\n",
    "for i in range(len(h)):\n",
    "#     print(ord(h[i]) ^ ord(mr_s[i]))\n",
    "    c += chr(ord(h[i]) ^ ord(mr_s[i])) \n",
    "len(c)\n",
    "c"
   ]
  },
  {
   "cell_type": "code",
   "execution_count": 21,
   "metadata": {},
   "outputs": [
    {
     "name": "stdout",
     "output_type": "stream",
     "text": [
      "0.05260872840881348\n",
      "[1, 1, 1, 1, 1, 1, 1, 1, 1]\n"
     ]
    }
   ],
   "source": [
    "def test(c1, c2):\n",
    "    u1 = Element(pairing, G1, value=c1[0])\n",
    "    u2 = Element(pairing, G1, value=c2[0])\n",
    "    v1 = Element(pairing, G1, value=c1[1])\n",
    "    v2 = Element(pairing, G1, value=c2[1])\n",
    "    \n",
    "    start = time.time()\n",
    "    if pairing.apply(u1, v2) == pairing.apply(u2, v1):\n",
    "        ret = 1\n",
    "    else:\n",
    "        ret = 0\n",
    "\n",
    "    end = time.time() - start\n",
    "\n",
    "    return ret, end\n",
    "\n",
    "d = []\n",
    "test_time = 0\n",
    "for i in range(len(c1)):\n",
    "    t_ret, t_t = test(c1[i], c2[i])\n",
    "    d.append(t_ret)\n",
    "    test_time += t_t\n",
    "    \n",
    "print(test_time)\n",
    "print(d)"
   ]
  },
  {
   "cell_type": "code",
   "execution_count": 47,
   "metadata": {},
   "outputs": [
    {
     "name": "stdout",
     "output_type": "stream",
     "text": [
      "035B689AFC82A323B5412651E4770456054618DA2BF4E953FD7BBDAF699A99BBF3F83BD7EAC3944F8E206F09C1DB7AFF7F7805916263AD2648F893E891527AE300\n",
      "022E4EE4470741A957D87CADA505D924968C6AF527C11683F04ABDFCF5514D42F0F99D038E16C1376A52D08113B22CA27612161012CEBBE7A14DBD69E7162DB024\n",
      "45010881413964415059578805915666289935797225825825471317768124941855391208174415618958546425093577803921072997329240631303603362476530092770582107558437632\n",
      "29240971558462268261758277812289481321448733630174612150849692598250419957613678769051350949466166154947952764132727274447557197831357226324068263816704036\n",
      "rr:  0x175267ebb85e28ae2995afc4172dd7293ca722f0c35ffd00d3100539ccbd4f90301a6d464d55578e472bf88d269565d096a138170ad16c1e9b52e817644575324\n",
      "0x175267ebb85e28ae2995afc4172dd7293ca722f0c35ffd00d3100539ccbd4f90301a6d464d55578e472bf88d269565d096a138170ad16c1e9b52e817644575324\n"
     ]
    },
    {
     "data": {
      "text/plain": [
       "155"
      ]
     },
     "execution_count": 47,
     "metadata": {},
     "output_type": "execute_result"
    }
   ],
   "source": [
    "p = Element.random(pairing, G1)\n",
    "q = Element.random(pairing, G1)\n",
    "print(p)\n",
    "print(q)\n",
    "\n",
    "ps = int(str(p), 16)\n",
    "qs = int(str(q), 16)\n",
    "print(ps)\n",
    "print(qs)\n",
    "rv = ps ^ qs\n",
    "rr = hex(rv)\n",
    "print('rr: ', rr)\n",
    "print(str(rr))\n",
    "r = Element(pairing, G1, value=str(rr))\n",
    "len(str(rv))"
   ]
  },
  {
   "cell_type": "code",
   "execution_count": 30,
   "metadata": {},
   "outputs": [
    {
     "name": "stdout",
     "output_type": "stream",
     "text": [
      "0.003080129623413086\n",
      "0.003310680389404297\n"
     ]
    }
   ],
   "source": [
    "a = Element.random(pairing, G1)\n",
    "b = Element.random(pairing, G1)\n",
    "\n",
    "s = time.time()\n",
    "c = pairing.apply(a, b)\n",
    "p_time = time.time() - s\n",
    "print(p_time)\n",
    "\n",
    "r = Element.random(pairing, Zr)\n",
    "st = time.time()\n",
    "d = a**r\n",
    "z_time = time.time() - st\n",
    "print(z_time)"
   ]
  },
  {
   "cell_type": "code",
   "execution_count": null,
   "metadata": {},
   "outputs": [],
   "source": []
  }
 ],
 "metadata": {
  "hide_input": false,
  "kernelspec": {
   "display_name": "Python 3",
   "language": "python",
   "name": "python3"
  },
  "language_info": {
   "codemirror_mode": {
    "name": "ipython",
    "version": 3
   },
   "file_extension": ".py",
   "mimetype": "text/x-python",
   "name": "python",
   "nbconvert_exporter": "python",
   "pygments_lexer": "ipython3",
   "version": "3.6.8"
  },
  "toc": {
   "base_numbering": 1,
   "nav_menu": {},
   "number_sections": true,
   "sideBar": true,
   "skip_h1_title": false,
   "title_cell": "Table of Contents",
   "title_sidebar": "Contents",
   "toc_cell": false,
   "toc_position": {},
   "toc_section_display": true,
   "toc_window_display": false
  },
  "varInspector": {
   "cols": {
    "lenName": 16,
    "lenType": 16,
    "lenVar": 40
   },
   "kernels_config": {
    "python": {
     "delete_cmd_postfix": "",
     "delete_cmd_prefix": "del ",
     "library": "var_list.py",
     "varRefreshCmd": "print(var_dic_list())"
    },
    "r": {
     "delete_cmd_postfix": ") ",
     "delete_cmd_prefix": "rm(",
     "library": "var_list.r",
     "varRefreshCmd": "cat(var_dic_list()) "
    }
   },
   "types_to_exclude": [
    "module",
    "function",
    "builtin_function_or_method",
    "instance",
    "_Feature"
   ],
   "window_display": false
  }
 },
 "nbformat": 4,
 "nbformat_minor": 2
}
