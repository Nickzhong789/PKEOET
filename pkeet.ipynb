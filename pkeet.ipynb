{
 "cells": [
  {
   "cell_type": "code",
   "execution_count": 1,
   "metadata": {},
   "outputs": [],
   "source": [
    "from pypbc import *\n",
    "import hashlib\n",
    "import time"
   ]
  },
  {
   "cell_type": "code",
   "execution_count": 2,
   "metadata": {},
   "outputs": [],
   "source": [
    "stored_params = \"\"\"type a\n",
    "q 8780710799663312522437781984754049815806883199414208211028653399266475630880222957078625179422662221423155858769582317459277713367317481324925129998224791\n",
    "h 12016012264891146079388821366740534204802954401251311822919615131047207289359704531102844802183906537786776\n",
    "r 730750818665451621361119245571504901405976559617\n",
    "exp2 159\n",
    "exp1 107\n",
    "sign1 1\n",
    "sign0 1\n",
    "\"\"\"\n",
    "\n",
    "params = Parameters(param_string=stored_params)\n",
    "pairing = Pairing(params)"
   ]
  },
  {
   "cell_type": "code",
   "execution_count": 3,
   "metadata": {},
   "outputs": [
    {
     "data": {
      "text/plain": [
       "0272C7050204BF7D515FC6DEC5168A169BDB4C9BA3C56B9B398B09A4FA8FC0D2F3A8F2EE9768191A703C6D26CF8F943702FFB5508E45F31B2EDCA12CDB48DE4A9D"
      ]
     },
     "execution_count": 3,
     "metadata": {},
     "output_type": "execute_result"
    }
   ],
   "source": [
    "def setup():\n",
    "    g = Element.random(pairing, G1)\n",
    "    \n",
    "    return g\n",
    "\n",
    "g = setup()\n",
    "g"
   ]
  },
  {
   "cell_type": "code",
   "execution_count": 4,
   "metadata": {},
   "outputs": [
    {
     "data": {
      "text/plain": [
       "0226574A72CC183D4FE17C822AEBE552BCDECE3621E654F062466A34594702DADD14F3F0A8AE5352ABEFFF04C436BEB310E40391A2B386292CE94EDCA2F8842516"
      ]
     },
     "execution_count": 4,
     "metadata": {},
     "output_type": "execute_result"
    }
   ],
   "source": [
    "def keygen(g):\n",
    "    x = Element.random(pairing, Zr)\n",
    "    y = g**x\n",
    "    \n",
    "    return x, y\n",
    "\n",
    "x, y = keygen(g)\n",
    "y"
   ]
  },
  {
   "cell_type": "code",
   "execution_count": 5,
   "metadata": {},
   "outputs": [],
   "source": [
    "def get_hash(c1, c2, c3):\n",
    "        h_in = str(c1) + str(c2) + str(c3)\n",
    "        sha512 = hashlib.sha512()\n",
    "        sha512.update(h_in.encode('utf8'))\n",
    "        hv = sha512.hexdigest()\n",
    "#         ev = Element.from_hash(pairing, G1, hv)\n",
    "        \n",
    "        return hv"
   ]
  },
  {
   "cell_type": "code",
   "execution_count": 6,
   "metadata": {},
   "outputs": [
    {
     "data": {
      "text/plain": [
       "0333313444314142444542433832364144373236383245374536343236433236344436453042383535423430393246373533413437444441373730323230384138"
      ]
     },
     "execution_count": 6,
     "metadata": {},
     "output_type": "execute_result"
    }
   ],
   "source": [
    "def xor(a, b):\n",
    "    aa = int(str(a), 16)\n",
    "    bb = int(str(b), 16)\n",
    "    \n",
    "    c = aa ^ bb\n",
    "    cc = hex(c)\n",
    "    c_e = Element(pairing, G1, value=str(cc))\n",
    "    \n",
    "    return c_e\n",
    "\n",
    "p = Element.random(pairing, G1)\n",
    "q = Element.random(pairing, G1)\n",
    "xor(p, q)"
   ]
  },
  {
   "cell_type": "code",
   "execution_count": 17,
   "metadata": {},
   "outputs": [
    {
     "name": "stdout",
     "output_type": "stream",
     "text": [
      "0.09047436714172363\n"
     ]
    },
    {
     "data": {
      "text/plain": [
       "['023A0CF597A9104BB6F6FA305280E4A2DE1AC4EE9ABA426EC66FD34966A1B78773056A398B1154E09686545F57C947E746AF90C7DE5779825A04485551B1B56D46',\n",
       " '0328982CF250969C7B87CE5F6488C710D2E038E9C8BF0893F88380837D8B96D257972A59AD0AB7E573F3AB989C3026136BD29A355D75F2B5AC2478F204EC328CF3',\n",
       " '\\x02\\x07\\r\\x06\\x01ZR\\x04w\\x0ew$W $S TQ\\x06\\x05\\x0cVW~{\\x03~p\\\\s\\rWQsU\\x0bQ# \"\\x04\\n%~\\x03#\\x01Vup\\x03$\\\\\\r\\x08R!\\x01\\x01\\x7fu\\x06RQQ\\x01V\\x03\"\\x0eQ\\x02\\x07v[\\x01Y\\nQ|twv%_w\\x04\\x03_\\x03V\\x06\\x03Utu[U\\ns{\\x0e\\'\\x07Tt\\x03\\x06\\x05\\t\\x00\\x03Rq\\r\\n$$!V$\\x01\\x03\\x05\\x05\"v']"
      ]
     },
     "execution_count": 17,
     "metadata": {},
     "output_type": "execute_result"
    }
   ],
   "source": [
    "def enc(m, g, y):\n",
    "    r = Element.random(pairing, Zr)\n",
    "    u = g**r\n",
    "    v = m**r\n",
    "    \n",
    "    h = get_hash(u, v, y**r)\n",
    "    mr_s = str(m) + str(r)\n",
    "    w = ''\n",
    "    for i in range(len(h)):\n",
    "        w += chr(ord(h[i]) ^ ord(mr_s[i])) \n",
    "    \n",
    "    return [str(u), str(v), w]\n",
    "    \n",
    "c1 = []\n",
    "c2 = []\n",
    "m = []\n",
    "x1, y1 = keygen(g)\n",
    "x2, y2 = keygen(g)\n",
    "\n",
    "num = 9\n",
    "for i in range(num):\n",
    "    m.append(Element.random(pairing, G1))\n",
    "    \n",
    "start = time.time()\n",
    "for i in range(num):\n",
    "    c1.append(enc(m[i], g, y1))\n",
    "enc_time = time.time() - start\n",
    "\n",
    "for i in range(num):\n",
    "    c2.append(enc(m[i], g, y2))\n",
    "print(enc_time)\n",
    "c1[0]"
   ]
  },
  {
   "cell_type": "code",
   "execution_count": 8,
   "metadata": {},
   "outputs": [
    {
     "name": "stdout",
     "output_type": "stream",
     "text": [
      "Length of h:  128\n",
      "Length of m:  130\n",
      "Length of r:  42\n"
     ]
    },
    {
     "data": {
      "text/plain": [
       "'U\\x06\\x04\\x01\\x05\\x7f&\\\\\\x07r&\\x02\\x06[V\\x0f\\x07!w \\x02#XT\\x08 \\x04\\x02\\x0cQ\\x06\"\\x06\\x06X$Pwr\\x03R\\x05\\x04 Sp r\\x03\\x03R\\x05s\\x05\\x06\\x02\\x0f$ p]$\\x00\\rUp\\'Pww\\x0eu\\x01\\'#\\x06\\x05\\x03|\\x00R&TU\\x05\\x0f%\\'#\\x04\\x03\\x06\\x05\\x01\\x0cPs\\x0erQ \\x00qPR\\x03p\\x01rS%wSSW\\x0e\\x04\\x07Q\\x03\\x01Q\\x02\\\\RZ\\x02\\''"
      ]
     },
     "execution_count": 8,
     "metadata": {},
     "output_type": "execute_result"
    }
   ],
   "source": [
    "m = Element.random(pairing, G1)\n",
    "r = Element.random(pairing, Zr)\n",
    "u = g**r\n",
    "v = m**r\n",
    "    \n",
    "h = get_hash(u, v, y**r)\n",
    "mr_s = str(m) + str(r)\n",
    "print('Length of h: ', len(h))\n",
    "print('Length of m: ', len(str(m)))\n",
    "print('Length of r: ', len(str(r)))\n",
    "c = ''\n",
    "for i in range(len(h)):\n",
    "#     print(ord(h[i]) ^ ord(mr_s[i]))\n",
    "    c += chr(ord(h[i]) ^ ord(mr_s[i])) \n",
    "len(c)\n",
    "c"
   ]
  },
  {
   "cell_type": "code",
   "execution_count": 9,
   "metadata": {},
   "outputs": [
    {
     "ename": "TypeError",
     "evalue": "Argument 1 must be an element.",
     "output_type": "error",
     "traceback": [
      "\u001b[0;31m---------------------------------------------------------------------------\u001b[0m",
      "\u001b[0;31mTypeError\u001b[0m                                 Traceback (most recent call last)",
      "\u001b[0;32m<ipython-input-9-9012c73a4e3a>\u001b[0m in \u001b[0;36m<module>\u001b[0;34m\u001b[0m\n\u001b[1;32m     12\u001b[0m     \u001b[0;32mreturn\u001b[0m \u001b[0mm\u001b[0m\u001b[0;34m\u001b[0m\u001b[0;34m\u001b[0m\u001b[0m\n\u001b[1;32m     13\u001b[0m \u001b[0;34m\u001b[0m\u001b[0m\n\u001b[0;32m---> 14\u001b[0;31m \u001b[0mc\u001b[0m \u001b[0;34m=\u001b[0m \u001b[0menc\u001b[0m\u001b[0;34m(\u001b[0m\u001b[0mm\u001b[0m\u001b[0;34m[\u001b[0m\u001b[0;36m0\u001b[0m\u001b[0;34m]\u001b[0m\u001b[0;34m,\u001b[0m \u001b[0mg\u001b[0m\u001b[0;34m,\u001b[0m \u001b[0my\u001b[0m\u001b[0;34m)\u001b[0m\u001b[0;34m\u001b[0m\u001b[0;34m\u001b[0m\u001b[0m\n\u001b[0m\u001b[1;32m     15\u001b[0m \u001b[0mmr_s\u001b[0m \u001b[0;34m=\u001b[0m \u001b[0mdec\u001b[0m\u001b[0;34m(\u001b[0m\u001b[0mx\u001b[0m\u001b[0;34m,\u001b[0m \u001b[0mc\u001b[0m\u001b[0;34m)\u001b[0m\u001b[0;34m\u001b[0m\u001b[0;34m\u001b[0m\u001b[0m\n\u001b[1;32m     16\u001b[0m \u001b[0mprint\u001b[0m\u001b[0;34m(\u001b[0m\u001b[0;34m'c: '\u001b[0m\u001b[0;34m,\u001b[0m \u001b[0mc\u001b[0m\u001b[0;34m)\u001b[0m\u001b[0;34m\u001b[0m\u001b[0;34m\u001b[0m\u001b[0m\n",
      "\u001b[0;32m<ipython-input-7-d2a79d3f3165>\u001b[0m in \u001b[0;36menc\u001b[0;34m(m, g, y)\u001b[0m\n\u001b[1;32m      2\u001b[0m     \u001b[0mr\u001b[0m \u001b[0;34m=\u001b[0m \u001b[0mElement\u001b[0m\u001b[0;34m.\u001b[0m\u001b[0mrandom\u001b[0m\u001b[0;34m(\u001b[0m\u001b[0mpairing\u001b[0m\u001b[0;34m,\u001b[0m \u001b[0mZr\u001b[0m\u001b[0;34m)\u001b[0m\u001b[0;34m\u001b[0m\u001b[0;34m\u001b[0m\u001b[0m\n\u001b[1;32m      3\u001b[0m     \u001b[0mu\u001b[0m \u001b[0;34m=\u001b[0m \u001b[0mg\u001b[0m\u001b[0;34m**\u001b[0m\u001b[0mr\u001b[0m\u001b[0;34m\u001b[0m\u001b[0;34m\u001b[0m\u001b[0m\n\u001b[0;32m----> 4\u001b[0;31m     \u001b[0mv\u001b[0m \u001b[0;34m=\u001b[0m \u001b[0mm\u001b[0m\u001b[0;34m**\u001b[0m\u001b[0mr\u001b[0m\u001b[0;34m\u001b[0m\u001b[0;34m\u001b[0m\u001b[0m\n\u001b[0m\u001b[1;32m      5\u001b[0m \u001b[0;34m\u001b[0m\u001b[0m\n\u001b[1;32m      6\u001b[0m     \u001b[0mh\u001b[0m \u001b[0;34m=\u001b[0m \u001b[0mget_hash\u001b[0m\u001b[0;34m(\u001b[0m\u001b[0mu\u001b[0m\u001b[0;34m,\u001b[0m \u001b[0mv\u001b[0m\u001b[0;34m,\u001b[0m \u001b[0my\u001b[0m\u001b[0;34m**\u001b[0m\u001b[0mr\u001b[0m\u001b[0;34m)\u001b[0m\u001b[0;34m\u001b[0m\u001b[0;34m\u001b[0m\u001b[0m\n",
      "\u001b[0;31mTypeError\u001b[0m: Argument 1 must be an element."
     ]
    }
   ],
   "source": [
    "def dec(sk, c):\n",
    "    u = Element(pairing, G1, value=c[0])\n",
    "    v = Element(pairing, G1, value=c[1])\n",
    "    h = get_hash(u, v, u**sk)\n",
    "    mr_s = ''\n",
    "    \n",
    "    for i in range(len(h)):\n",
    "        mr_s += chr(ord(h[i]) ^ ord(c[2][i]))\n",
    "    \n",
    "    m = Element(pairing, G1, value=mr_s)\n",
    "    \n",
    "    return m\n",
    "\n",
    "c = enc(m[0], g, y)\n",
    "mr_s = dec(x, c)\n",
    "print('c: ', c)\n",
    "print('mr_s: ', mr_s)\n",
    "print('m: ', m[0])"
   ]
  },
  {
   "cell_type": "code",
   "execution_count": 21,
   "metadata": {},
   "outputs": [
    {
     "name": "stdout",
     "output_type": "stream",
     "text": [
      "0.05260872840881348\n",
      "[1, 1, 1, 1, 1, 1, 1, 1, 1]\n"
     ]
    }
   ],
   "source": [
    "def test(c1, c2):\n",
    "    u1 = Element(pairing, G1, value=c1[0])\n",
    "    u2 = Element(pairing, G1, value=c2[0])\n",
    "    v1 = Element(pairing, G1, value=c1[1])\n",
    "    v2 = Element(pairing, G1, value=c2[1])\n",
    "    \n",
    "    start = time.time()\n",
    "    if pairing.apply(u1, v2) == pairing.apply(u2, v1):\n",
    "        ret = 1\n",
    "    else:\n",
    "        ret = 0\n",
    "\n",
    "    end = time.time() - start\n",
    "\n",
    "    return ret, end\n",
    "\n",
    "d = []\n",
    "test_time = 0\n",
    "for i in range(len(c1)):\n",
    "    t_ret, t_t = test(c1[i], c2[i])\n",
    "    d.append(t_ret)\n",
    "    test_time += t_t\n",
    "    \n",
    "print(test_time)\n",
    "print(d)"
   ]
  },
  {
   "cell_type": "code",
   "execution_count": 47,
   "metadata": {},
   "outputs": [
    {
     "name": "stdout",
     "output_type": "stream",
     "text": [
      "035B689AFC82A323B5412651E4770456054618DA2BF4E953FD7BBDAF699A99BBF3F83BD7EAC3944F8E206F09C1DB7AFF7F7805916263AD2648F893E891527AE300\n",
      "022E4EE4470741A957D87CADA505D924968C6AF527C11683F04ABDFCF5514D42F0F99D038E16C1376A52D08113B22CA27612161012CEBBE7A14DBD69E7162DB024\n",
      "45010881413964415059578805915666289935797225825825471317768124941855391208174415618958546425093577803921072997329240631303603362476530092770582107558437632\n",
      "29240971558462268261758277812289481321448733630174612150849692598250419957613678769051350949466166154947952764132727274447557197831357226324068263816704036\n",
      "rr:  0x175267ebb85e28ae2995afc4172dd7293ca722f0c35ffd00d3100539ccbd4f90301a6d464d55578e472bf88d269565d096a138170ad16c1e9b52e817644575324\n",
      "0x175267ebb85e28ae2995afc4172dd7293ca722f0c35ffd00d3100539ccbd4f90301a6d464d55578e472bf88d269565d096a138170ad16c1e9b52e817644575324\n"
     ]
    },
    {
     "data": {
      "text/plain": [
       "155"
      ]
     },
     "execution_count": 47,
     "metadata": {},
     "output_type": "execute_result"
    }
   ],
   "source": [
    "p = Element.random(pairing, G1)\n",
    "q = Element.random(pairing, G1)\n",
    "print(p)\n",
    "print(q)\n",
    "\n",
    "ps = int(str(p), 16)\n",
    "qs = int(str(q), 16)\n",
    "print(ps)\n",
    "print(qs)\n",
    "rv = ps ^ qs\n",
    "rr = hex(rv)\n",
    "print('rr: ', rr)\n",
    "print(str(rr))\n",
    "r = Element(pairing, G1, value=str(rr))\n",
    "len(str(rv))"
   ]
  },
  {
   "cell_type": "code",
   "execution_count": 30,
   "metadata": {},
   "outputs": [
    {
     "name": "stdout",
     "output_type": "stream",
     "text": [
      "0.003080129623413086\n",
      "0.003310680389404297\n"
     ]
    }
   ],
   "source": [
    "a = Element.random(pairing, G1)\n",
    "b = Element.random(pairing, G1)\n",
    "\n",
    "s = time.time()\n",
    "c = pairing.apply(a, b)\n",
    "p_time = time.time() - s\n",
    "print(p_time)\n",
    "\n",
    "r = Element.random(pairing, Zr)\n",
    "st = time.time()\n",
    "d = a**r\n",
    "z_time = time.time() - st\n",
    "print(z_time)"
   ]
  },
  {
   "cell_type": "code",
   "execution_count": null,
   "metadata": {},
   "outputs": [],
   "source": []
  }
 ],
 "metadata": {
  "hide_input": false,
  "kernelspec": {
   "display_name": "Python 3",
   "language": "python",
   "name": "python3"
  },
  "language_info": {
   "codemirror_mode": {
    "name": "ipython",
    "version": 3
   },
   "file_extension": ".py",
   "mimetype": "text/x-python",
   "name": "python",
   "nbconvert_exporter": "python",
   "pygments_lexer": "ipython3",
   "version": "3.6.8"
  },
  "toc": {
   "base_numbering": 1,
   "nav_menu": {},
   "number_sections": true,
   "sideBar": true,
   "skip_h1_title": false,
   "title_cell": "Table of Contents",
   "title_sidebar": "Contents",
   "toc_cell": false,
   "toc_position": {},
   "toc_section_display": true,
   "toc_window_display": false
  },
  "varInspector": {
   "cols": {
    "lenName": 16,
    "lenType": 16,
    "lenVar": 40
   },
   "kernels_config": {
    "python": {
     "delete_cmd_postfix": "",
     "delete_cmd_prefix": "del ",
     "library": "var_list.py",
     "varRefreshCmd": "print(var_dic_list())"
    },
    "r": {
     "delete_cmd_postfix": ") ",
     "delete_cmd_prefix": "rm(",
     "library": "var_list.r",
     "varRefreshCmd": "cat(var_dic_list()) "
    }
   },
   "types_to_exclude": [
    "module",
    "function",
    "builtin_function_or_method",
    "instance",
    "_Feature"
   ],
   "window_display": false
  }
 },
 "nbformat": 4,
 "nbformat_minor": 2
}
