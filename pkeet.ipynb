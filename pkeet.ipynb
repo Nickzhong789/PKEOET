{
 "cells": [
  {
   "cell_type": "code",
   "execution_count": 2,
   "metadata": {},
   "outputs": [],
   "source": [
    "from pypbc import *\n",
    "import hashlib\n",
    "import time"
   ]
  },
  {
   "cell_type": "code",
   "execution_count": 3,
   "metadata": {},
   "outputs": [],
   "source": [
    "stored_params = \"\"\"type a\n",
    "q 8780710799663312522437781984754049815806883199414208211028653399266475630880222957078625179422662221423155858769582317459277713367317481324925129998224791\n",
    "h 12016012264891146079388821366740534204802954401251311822919615131047207289359704531102844802183906537786776\n",
    "r 730750818665451621361119245571504901405976559617\n",
    "exp2 159\n",
    "exp1 107\n",
    "sign1 1\n",
    "sign0 1\n",
    "\"\"\"\n",
    "\n",
    "params = Parameters(param_string=stored_params)\n",
    "pairing = Pairing(params)"
   ]
  },
  {
   "cell_type": "code",
   "execution_count": 4,
   "metadata": {},
   "outputs": [
    {
     "data": {
      "text/plain": [
       "0367EFF9947101C58C4F40F0F8A003A470925E248E862115C166EBDC40A4A302DC82CD7DF08A33AA55C2B90A8EE614368624EB2CC6E0D69ACABB0C04293F473A3C"
      ]
     },
     "execution_count": 4,
     "metadata": {},
     "output_type": "execute_result"
    }
   ],
   "source": [
    "def setup():\n",
    "    g = Element.random(pairing, G1)\n",
    "    \n",
    "    return g\n",
    "\n",
    "g = setup()\n",
    "g"
   ]
  },
  {
   "cell_type": "code",
   "execution_count": 5,
   "metadata": {},
   "outputs": [
    {
     "data": {
      "text/plain": [
       "025E5FDF8A1B2EDEF906BA75B95880C92400A1F5D86FF6C59E55B208A16461C430BD72F700209120F672DB07EAB3908B366AC83695B3F0939A66DEAC627AEF3B89"
      ]
     },
     "execution_count": 5,
     "metadata": {},
     "output_type": "execute_result"
    }
   ],
   "source": [
    "def keygen(g):\n",
    "    x = Element.random(pairing, Zr)\n",
    "    y = g**x\n",
    "    \n",
    "    return x, y\n",
    "\n",
    "x, y = keygen(g)\n",
    "y"
   ]
  },
  {
   "cell_type": "code",
   "execution_count": 6,
   "metadata": {},
   "outputs": [],
   "source": [
    "def get_hash(c1, c2, c3):\n",
    "        h_in = str(c1) + str(c2) + str(c3)\n",
    "        sha512 = hashlib.sha512()\n",
    "        sha512.update(h_in.encode('utf8'))\n",
    "        hv = sha512.hexdigest()\n",
    "        ev = Element.from_hash(pairing, G1, hv)"
   ]
  },
  {
   "cell_type": "code",
   "execution_count": 10,
   "metadata": {},
   "outputs": [
    {
     "name": "stdout",
     "output_type": "stream",
     "text": [
      "0.40356993675231934\n"
     ]
    }
   ],
   "source": [
    "def enc(m, g, y):\n",
    "    r = Element.random(pairing, Zr)\n",
    "    u = g**r\n",
    "    v = m**r\n",
    "    \n",
    "    h = get_hash(u, v, y**r)\n",
    "#     mr_s = str(m+r)\n",
    "#     mr = Element(pairing, G1, value=mr_s)\n",
    "    w = h\n",
    "    \n",
    "    return [u, v, w]\n",
    "    \n",
    "c1 = []\n",
    "c2 = []\n",
    "x1, y1 = keygen(g)\n",
    "x2, y2 = keygen(g)\n",
    "\n",
    "start = time.time()\n",
    "for i in range(9):\n",
    "    m = Element.random(pairing, G1)\n",
    "    c1.append(enc(m, g, y1))\n",
    "    c2.append(enc(m, g, y2))\n",
    "enc_time = time.time() - start\n",
    "print(enc_time)"
   ]
  },
  {
   "cell_type": "code",
   "execution_count": 11,
   "metadata": {},
   "outputs": [
    {
     "name": "stdout",
     "output_type": "stream",
     "text": [
      "0.03622603416442871\n",
      "[1, 1, 1, 1, 1, 1, 1, 1, 1]\n"
     ]
    }
   ],
   "source": [
    "def test(c1, c2):\n",
    "    if pairing.apply(c1[0], c2[1]) == pairing.apply(c2[0], c1[1]):\n",
    "        return 1\n",
    "    else:\n",
    "        return 0\n",
    "\n",
    "d = []\n",
    "start = time.time()\n",
    "for i in range(len(c1)):\n",
    "    d.append(test(c1[i], c2[i]))\n",
    "test_time = time.time() - start\n",
    "print(test_time)\n",
    "print(d)"
   ]
  },
  {
   "cell_type": "code",
   "execution_count": 21,
   "metadata": {},
   "outputs": [
    {
     "name": "stdout",
     "output_type": "stream",
     "text": [
      "0313B9185148EA20AEBB89FDD2738602BD72315C934436813BA8A1BFF8E5907A3B47D60E170C984652662F13B8A56ADCAE7ACCE899AAF2E8835373542EC58593FF\n",
      "0294BDD5D62B0C188EAC073458426C8E0AF0491103915F6A05F6969D9BEC17840CFDDB389D9F888A23384A31CA90638AD4246847F7472EC1E17C1EF7C669E4C0FC\n",
      "41256402547305887525688048417597474873816208019603129600556031317969067596695188002622651863306887992638009186539408095521638529312145353691256177488663551\n",
      "34605842637223105101664704448574568148637782037197953491204567051260414958866553811482818389091685865328073845189448653951918690701910685768621160283816188\n",
      "0x18704cd8763e63820178ec98a31ea8cb782784d90d569eb3e5e3722630987fe37ba0d368a9310cc715e6522723509567a5ea4af6eeddc29622f6da3e8ac615303\n"
     ]
    },
    {
     "data": {
      "text/plain": [
       "0330354636393639443942454331373834304346444442333839443946383838413233333834413331434139303633384144343234363834374637343732454331"
      ]
     },
     "execution_count": 21,
     "metadata": {},
     "output_type": "execute_result"
    }
   ],
   "source": [
    "p = Element.random(pairing, G1)\n",
    "q = Element.random(pairing, G1)\n",
    "print(p)\n",
    "print(q)\n",
    "\n",
    "ps = int(str(p), 16)\n",
    "qs = int(str(q), 16)\n",
    "print(ps)\n",
    "print(qs)\n",
    "rv = ps ^ qs\n",
    "rr = hex(rv)\n",
    "print(rr)\n",
    "r = Element(pairing, G1, value=str(rr))\n",
    "r"
   ]
  },
  {
   "cell_type": "code",
   "execution_count": null,
   "metadata": {},
   "outputs": [],
   "source": []
  }
 ],
 "metadata": {
  "hide_input": false,
  "kernelspec": {
   "display_name": "Python 3",
   "language": "python",
   "name": "python3"
  },
  "language_info": {
   "codemirror_mode": {
    "name": "ipython",
    "version": 3
   },
   "file_extension": ".py",
   "mimetype": "text/x-python",
   "name": "python",
   "nbconvert_exporter": "python",
   "pygments_lexer": "ipython3",
   "version": "3.6.8"
  },
  "toc": {
   "base_numbering": 1,
   "nav_menu": {},
   "number_sections": true,
   "sideBar": true,
   "skip_h1_title": false,
   "title_cell": "Table of Contents",
   "title_sidebar": "Contents",
   "toc_cell": false,
   "toc_position": {},
   "toc_section_display": true,
   "toc_window_display": false
  },
  "varInspector": {
   "cols": {
    "lenName": 16,
    "lenType": 16,
    "lenVar": 40
   },
   "kernels_config": {
    "python": {
     "delete_cmd_postfix": "",
     "delete_cmd_prefix": "del ",
     "library": "var_list.py",
     "varRefreshCmd": "print(var_dic_list())"
    },
    "r": {
     "delete_cmd_postfix": ") ",
     "delete_cmd_prefix": "rm(",
     "library": "var_list.r",
     "varRefreshCmd": "cat(var_dic_list()) "
    }
   },
   "types_to_exclude": [
    "module",
    "function",
    "builtin_function_or_method",
    "instance",
    "_Feature"
   ],
   "window_display": false
  }
 },
 "nbformat": 4,
 "nbformat_minor": 2
}
